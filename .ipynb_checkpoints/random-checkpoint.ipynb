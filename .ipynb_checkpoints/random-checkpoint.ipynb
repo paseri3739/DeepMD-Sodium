{
 "cells": [
  {
   "cell_type": "code",
   "execution_count": 5,
   "metadata": {},
   "outputs": [],
   "source": [
    "import random\n",
    "\n",
    "# constants\n",
    "A = 3.6  # a + b = 5.8\n",
    "B = 2.2  # MIN\n",
    "ATOM_LABELS = [\"Na\"] * 4  # make a list that has 4 Na atoms\n",
    "HEADER = \"%NProcShared=16\\n%mem=12GB\\n%Chk=checkpoint.chk\\n#p B3LYP/6-311+g(d) force\\n\\nTest\\n\\n0 1\\n\"  # header\n",
    "FILE_PATH = \"./output/rand.com\"\n",
    "NUMBER_OF_SYSTEMS = 3 # number of loops to generate\n",
    "\n",
    "def generate_random_coords():  # randomly generate coordinates\n",
    "    coords = [(0.0, 0.0, 0.0)] #initialize coords list\n",
    "    for _ in range(3):\n",
    "        last_coord = coords[-1]\n",
    "        rand = random.uniform(0.0, 1.0)  # Use random.uniform for a range of 0.0 to 1.0\n",
    "        new_coord = (last_coord[0], last_coord[1], last_coord[2] + rand * A + B)\n",
    "        coords.append(new_coord)\n",
    "    return coords\n",
    "\n",
    "def write_coord(file, coords):\n",
    "    for i, coord in enumerate(coords):\n",
    "        file.write(f\"{ATOM_LABELS[i]}    {coord[0]}    {coord[1]}    {coord[2]}\\n\")\n",
    "\n",
    "#main\n",
    "with open(FILE_PATH, \"w\") as file:\n",
    "    for i in range(NUMBER_OF_SYSTEMS):\n",
    "        coords = generate_random_coords()\n",
    "        text = HEADER\n",
    "        file.write(text)\n",
    "        write_coord(file, coords)\n",
    "        \n",
    "        if i < NUMBER_OF_SYSTEMS - 1:\n",
    "            file.write(\"\\n--Link1--\\n\")\n",
    "        file.write(\"\\n\")\n"
   ]
  },
  {
   "cell_type": "code",
   "execution_count": null,
   "metadata": {},
   "outputs": [],
   "source": []
  }
 ],
 "metadata": {
  "kernelspec": {
   "display_name": "Python 3 (ipykernel)",
   "language": "python",
   "name": "python3"
  },
  "language_info": {
   "codemirror_mode": {
    "name": "ipython",
    "version": 3
   },
   "file_extension": ".py",
   "mimetype": "text/x-python",
   "name": "python",
   "nbconvert_exporter": "python",
   "pygments_lexer": "ipython3",
   "version": "3.10.6"
  }
 },
 "nbformat": 4,
 "nbformat_minor": 4
}
