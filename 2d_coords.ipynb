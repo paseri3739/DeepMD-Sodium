{
 "cells": [
  {
   "cell_type": "code",
   "execution_count": 10,
   "metadata": {},
   "outputs": [
    {
     "name": "stdout",
     "output_type": "stream",
     "text": [
      "[0.4285478734152116, 0.3212172562349944, 0.22679328557126943]\n",
      "[0.21603320803078174, 0.3680036496492174]\n"
     ]
    },
    {
     "data": {
      "image/png": "[encoded data removed]",
      "text/plain": [
       "<Figure size 640x480 with 1 Axes>"
      ]
     },
     "metadata": {},
     "output_type": "display_data"
    }
   ],
   "source": [
    "import numpy as np\n",
    "import matplotlib.pyplot as plt\n",
    "import random\n",
    "\n",
    "def generate_points():\n",
    "    origin = np.array([0, 0])  # 点0の座標\n",
    "    randoms = [1, 1, 1]\n",
    "    t = [0.2, 0.2]\n",
    "    for i in range(3):\n",
    "        randoms_seed = random.uniform(0,1)\n",
    "        randoms[i] = randoms_seed #rand * (SUM - min) + min\n",
    "    for i in range(2):\n",
    "        t_seed = random.uniform(0,1)\n",
    "        t[i] = t_seed\n",
    "    print(randoms)\n",
    "    print(t)\n",
    "\n",
    "    p1 = np.array([origin[0] + randoms[0], origin[1]])\n",
    "    p2 = np.array([p1[0] + randoms[1] * np.cos(np.pi * t[0]), p1[1] + randoms[1] * np.sin(np.pi * t[0])])\n",
    "    p3 = np.array([p2[0] + randoms[2] * np.cos(np.pi * (t[0] + t[1])), p2[1] + randoms[2] * np.sin(np.pi * (t[0] + t[1]))])\n",
    "    points = [origin, p1, p2, p3]\n",
    "\n",
    "    return points\n",
    "\n",
    "def calculate_vectors(points):\n",
    "    v01 = points[1] - points[0]\n",
    "    v23 = points[3] - points[2]\n",
    "    return v01, v23\n",
    "\n",
    "def check_intersection(points, vectors):\n",
    "    result = np.linalg.solve(np.vstack((vectors[0], -vectors[1])).T, points[2] - points[0])\n",
    "    s = result[0]\n",
    "    t = result[1]\n",
    "\n",
    "    return s, t\n",
    "\n",
    "def is_parallel(cos_theta):\n",
    "    cos_pi = 0.999\n",
    "    return np.abs(cos_theta) >= cos_pi\n",
    "\n",
    "def check_conditions(points):\n",
    "    if np.linalg.norm(points[0] - points[3]) < 0.2:\n",
    "        return \"False0-3\"\n",
    "    if np.linalg.norm(points[0] - points[2]) < 0.2:\n",
    "        return \"False0-2\"\n",
    "    if np.linalg.norm(points[1] - points[3]) < 0.2:\n",
    "        return \"False1-3\"\n",
    "\n",
    "    return \"crossed\"\n",
    "\n",
    "def plot_points(points):\n",
    "    plt.figure()\n",
    "    plt.plot(*zip(*points), marker='o')\n",
    "    for i, p in enumerate(points):\n",
    "        plt.text(p[0], p[1], str(i), ha='right')\n",
    "    plt.show()\n",
    "\n",
    "def main():\n",
    "    # データの生成\n",
    "    points = generate_points()\n",
    "\n",
    "    # ベクトルの計算\n",
    "    v01, v23 = calculate_vectors(points)\n",
    "    vectors = [v01, v23]\n",
    "\n",
    "    # 交点の判定\n",
    "    result = check_intersection(points, vectors)\n",
    "    s = result[0]\n",
    "    t = result[1]\n",
    "\n",
    "    # 辺の平行判定\n",
    "    cos_theta = np.dot(vectors[0], vectors[1]) / (np.linalg.norm(vectors[0]) * np.linalg.norm(vectors[1]))\n",
    "    if is_parallel(cos_theta):\n",
    "        s = 10\n",
    "        t = 10\n",
    "\n",
    "    # 結果の出力とプロット\n",
    "    result = check_conditions(points)\n",
    "    if result == \"crossed\":\n",
    "        plot_points(points)\n",
    "    else:\n",
    "        print(result)\n",
    "\n",
    "# main関数の実行\n",
    "if __name__ == \"__main__\":\n",
    "    main()\n"
   ]
  },
  {
   "cell_type": "code",
   "execution_count": null,
   "metadata": {},
   "outputs": [],
   "source": []
  }
 ],
 "metadata": {
  "kernelspec": {
   "display_name": "Python 3",
   "language": "python",
   "name": "python3"
  },
  "language_info": {
   "codemirror_mode": {
    "name": "ipython",
    "version": 3
   },
   "file_extension": ".py",
   "mimetype": "text/x-python",
   "name": "python",
   "nbconvert_exporter": "python",
   "pygments_lexer": "ipython3",
   "version": "3.9.16"
  },
  "orig_nbformat": 4
 },
 "nbformat": 4,
 "nbformat_minor": 2
}
