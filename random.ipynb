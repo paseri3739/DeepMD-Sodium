{
 "cells": [
  {
   "cell_type": "code",
   "execution_count": 2,
   "metadata": {},
   "outputs": [
    {
     "name": "stdout",
     "output_type": "stream",
     "text": [
      "0.3165271672326839\n"
     ]
    }
   ],
   "source": [
    "import random\n",
    "\n",
    "# 0から1までの範囲の浮動小数点数乱数を生成する\n",
    "random_number = random.random()\n",
    "print(random_number)"
   ]
  },
  {
   "cell_type": "code",
   "execution_count": 3,
   "metadata": {},
   "outputs": [
    {
     "name": "stdout",
     "output_type": "stream",
     "text": [
      "(0, 0, 0)\n",
      "(0, 0, 3.1249656159214094)\n",
      "(0, 0, 6.491952346064448)\n",
      "(0, 0, 8.707542390928097)\n",
      "0.37498853864046977\n",
      "0.4556622433810127\n",
      "0.07186334828788332\n"
     ]
    }
   ],
   "source": [
    "rand2=random.random()\n",
    "rand3=random.random()\n",
    "rand4=random.random()\n",
    "\n",
    "#a+b->r_MAX b->r_MIN\n",
    "a=3\n",
    "b=2\n",
    "z2=rand2*a+b\n",
    "z3=rand3*a+b +z2\n",
    "z4=rand4*a+b +z3\n",
    "\n",
    "na1=(0,0,0)\n",
    "na2=(0,0,z2)\n",
    "na3=(0,0,z3)\n",
    "na4=(0,0,z4)\n",
    "\n",
    "print(na1)\n",
    "print(na2)\n",
    "print(na3)\n",
    "print(na4)\n",
    "\n",
    "print(rand2)\n",
    "print(rand3)\n",
    "print(rand4)\n",
    "\n"
   ]
  },
  {
   "cell_type": "code",
   "execution_count": 5,
   "metadata": {},
   "outputs": [],
   "source": [
    "# 1. ファイルを作成する場所とファイル名を指定します\n",
    "file_path = \"./output/rand.com\"\n",
    "\n",
    "# 2. ファイルを新規に作成し、テキストを書き込むモードで開きます\n",
    "file = open(file_path, \"w\")\n",
    "\n",
    "# 3. ファイルに書き込む内容を指定します ソースコードの見た目のための改行はバックスラッシュを使う。\n",
    "text =\\\n",
    "\"%NProcShared=16\\n\\\n",
    "%mem=12GB\\n\\\n",
    "%Chk=checkpoint.chk\\n\\\n",
    "#p B3LYP/6-311+g(d) force\\n\\\n",
    "\\n\\\n",
    "Test\\n\\\n",
    "\\n\\\n",
    "0 1\\n\\\n",
    "Na    {0}    {1}    {2}\\n\\\n",
    "Na    {3}    {4}    {5}\\n\\\n",
    "Na    {6}    {7}    {8}\\n\\\n",
    "Na    {9}    {10}    {11}\\n\".format(na1[0],na1[1],na1[2],na2[0],na2[1],na2[2],na3[0],na3[1],na3[2],na4[0],na4[1],na4[2])\n",
    "\n",
    "# 4. ファイルにテキストを書き込み、ファイルを閉じます\n",
    "file.write(text)\n",
    "file.close()\n"
   ]
  },
  {
   "cell_type": "code",
   "execution_count": null,
   "metadata": {},
   "outputs": [],
   "source": []
  }
 ],
 "metadata": {
  "kernelspec": {
   "display_name": "Python 3",
   "language": "python",
   "name": "python3"
  },
  "language_info": {
   "codemirror_mode": {
    "name": "ipython",
    "version": 3
   },
   "file_extension": ".py",
   "mimetype": "text/x-python",
   "name": "python",
   "nbconvert_exporter": "python",
   "pygments_lexer": "ipython3",
   "version": "3.10.6"
  },
  "orig_nbformat": 4
 },
 "nbformat": 4,
 "nbformat_minor": 2
}
