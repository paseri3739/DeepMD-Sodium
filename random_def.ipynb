{
 "cells": [
  {
   "cell_type": "code",
   "execution_count": 1,
   "metadata": {},
   "outputs": [
    {
     "ename": "IndexError",
     "evalue": "list index out of range",
     "output_type": "error",
     "traceback": [
      "\u001b[0;31m---------------------------------------------------------------------------\u001b[0m",
      "\u001b[0;31mIndexError\u001b[0m                                Traceback (most recent call last)",
      "Cell \u001b[0;32mIn[1], line 34\u001b[0m\n\u001b[1;32m     32\u001b[0m num_coords \u001b[39m=\u001b[39m \u001b[39m3\u001b[39m  \u001b[39m# Specify the desired number of coordinates\u001b[39;00m\n\u001b[1;32m     33\u001b[0m file_path \u001b[39m=\u001b[39m \u001b[39m\"\u001b[39m\u001b[39m./output/rand.com\u001b[39m\u001b[39m\"\u001b[39m\n\u001b[0;32m---> 34\u001b[0m create_input_file(file_path, num_coords)\n",
      "Cell \u001b[0;32mIn[1], line 23\u001b[0m, in \u001b[0;36mcreate_input_file\u001b[0;34m(file_path, num_coords)\u001b[0m\n\u001b[1;32m     20\u001b[0m text \u001b[39m=\u001b[39m header\n\u001b[1;32m     22\u001b[0m \u001b[39mfor\u001b[39;00m i, coord \u001b[39min\u001b[39;00m \u001b[39menumerate\u001b[39m(coords):\n\u001b[0;32m---> 23\u001b[0m     text \u001b[39m+\u001b[39m\u001b[39m=\u001b[39m \u001b[39mf\u001b[39m\u001b[39m\"\u001b[39m\u001b[39m{\u001b[39;00matom_labels[i]\u001b[39m}\u001b[39;00m\u001b[39m    \u001b[39m\u001b[39m{\u001b[39;00mcoord[\u001b[39m0\u001b[39m]\u001b[39m}\u001b[39;00m\u001b[39m    \u001b[39m\u001b[39m{\u001b[39;00mcoord[\u001b[39m1\u001b[39m]\u001b[39m}\u001b[39;00m\u001b[39m    \u001b[39m\u001b[39m{\u001b[39;00mcoord[\u001b[39m2\u001b[39m]\u001b[39m}\u001b[39;00m\u001b[39m\\n\u001b[39;00m\u001b[39m\"\u001b[39m\n\u001b[1;32m     25\u001b[0m text \u001b[39m+\u001b[39m\u001b[39m=\u001b[39m \u001b[39m\"\u001b[39m\u001b[39m\\n\u001b[39;00m\u001b[39m--Link1--\u001b[39m\u001b[39m\"\u001b[39m\n\u001b[1;32m     27\u001b[0m \u001b[39mwith\u001b[39;00m \u001b[39mopen\u001b[39m(file_path, \u001b[39m\"\u001b[39m\u001b[39mw\u001b[39m\u001b[39m\"\u001b[39m) \u001b[39mas\u001b[39;00m file:\n",
      "\u001b[0;31mIndexError\u001b[0m: list index out of range"
     ]
    }
   ],
   "source": [
    "import random\n",
    "\n",
    "def create_input_file(file_path, num_coords):\n",
    "    # Constants\n",
    "    a = 3\n",
    "    b = 2\n",
    "\n",
    "    # Initial coordinates\n",
    "    coords = [(0, 0, 0)]\n",
    "\n",
    "    for _ in range(num_coords):\n",
    "        last_coord = coords[-1]\n",
    "        rand = random.random()\n",
    "        new_coord = (last_coord[0], last_coord[1], last_coord[2] + rand * a + b)\n",
    "        coords.append(new_coord)\n",
    "\n",
    "    header = \"%NProcShared=16\\n%mem=12GB\\n%Chk=checkpoint.chk\\n#p B3LYP/6-311+g(d) force\\n\\nTest\\n\\n0 1\\n\"\n",
    "    atom_labels = [\"Na\"] * num_coords\n",
    "\n",
    "    text = header\n",
    "\n",
    "    for i, coord in enumerate(coords):\n",
    "        text += f\"{atom_labels[i]}    {coord[0]}    {coord[1]}    {coord[2]}\\n\"\n",
    "\n",
    "    text += \"\\n--Link1--\"\n",
    "\n",
    "    with open(file_path, \"w\") as file:\n",
    "        file.write(text)\n",
    "\n",
    "\n",
    "# Example usage\n",
    "num_coords = 3  # Specify the desired number of coordinates\n",
    "file_path = \"./output/rand.com\"\n",
    "create_input_file(file_path, num_coords)\n"
   ]
  },
  {
   "cell_type": "code",
   "execution_count": null,
   "metadata": {},
   "outputs": [],
   "source": []
  }
 ],
 "metadata": {
  "kernelspec": {
   "display_name": "Python 3",
   "language": "python",
   "name": "python3"
  },
  "language_info": {
   "codemirror_mode": {
    "name": "ipython",
    "version": 3
   },
   "file_extension": ".py",
   "mimetype": "text/x-python",
   "name": "python",
   "nbconvert_exporter": "python",
   "pygments_lexer": "ipython3",
   "version": "3.10.6"
  },
  "orig_nbformat": 4
 },
 "nbformat": 4,
 "nbformat_minor": 2
}
