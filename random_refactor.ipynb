{
 "cells": [
  {
   "cell_type": "code",
   "execution_count": 10,
   "metadata": {},
   "outputs": [],
   "source": [
    "import random\n",
    "\n",
    "#constants\n",
    "a = 3.6 #a + b = 5.8\n",
    "b = 2.2 #MIN\n",
    "ATOM_LABELS = [\"Na\"] * 4 #make a list that has 4 Na atoms\n",
    "#initial coordinates\n",
    "coords = [(0.0, 0.0, 0.0)]\n",
    "FILE_PATH = \"./output/rand.com\"\n",
    "\n",
    "def generate_random_coords(): #randomly generate coordinates\n",
    "    for _ in range(3):\n",
    "        last_coord = coords[-1]\n",
    "        rand = random.random()\n",
    "        new_coord = (last_coord[0], last_coord[1], last_coord[2] + rand * a + b)\n",
    "        coords.append(new_coord)\n",
    "\n",
    "def write_coord(file):\n",
    "    for i, coord in enumerate(coords):\n",
    "        file.write(f\"{ATOM_LABELS[i]}    {coord[0]}    {coord[1]}    {coord[2]}\\n\")\n",
    "\n",
    "generate_random_coords()\n",
    "HEADER = \"%NProcShared=16\\n%mem=12GB\\n%Chk=checkpoint.chk\\n#p B3LYP/6-311+g(d) force\\n\\nTest\\n\\n0 1\\n\" #header\n",
    "text = HEADER\n",
    "\n",
    "with open(FILE_PATH, \"w\") as file:\n",
    "    for _ in range(3):\n",
    "        file.write(text)\n",
    "        write_coord(file)\n",
    "        file.write(\"\\n--Link1--\\n\")\n",
    "\n"
   ]
  },
  {
   "cell_type": "code",
   "execution_count": null,
   "metadata": {},
   "outputs": [],
   "source": []
  }
 ],
 "metadata": {
  "kernelspec": {
   "display_name": "Python 3",
   "language": "python",
   "name": "python3"
  },
  "language_info": {
   "codemirror_mode": {
    "name": "ipython",
    "version": 3
   },
   "file_extension": ".py",
   "mimetype": "text/x-python",
   "name": "python",
   "nbconvert_exporter": "python",
   "pygments_lexer": "ipython3",
   "version": "3.10.6"
  },
  "orig_nbformat": 4
 },
 "nbformat": 4,
 "nbformat_minor": 2
}
