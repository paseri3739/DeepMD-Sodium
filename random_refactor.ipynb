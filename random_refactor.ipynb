{
 "cells": [
  {
   "cell_type": "code",
   "execution_count": 1,
   "metadata": {},
   "outputs": [],
   "source": [
    "import random\n",
    "\n",
    "#constants\n",
    "a = 3\n",
    "b = 2\n",
    "\n",
    "#initial coordinates\n",
    "coords = [(0, 0, 0)]\n",
    "\n",
    "for _ in range(3):\n",
    "    last_coord = coords[-1]\n",
    "    rand = random.random()\n",
    "    new_coord = (last_coord[0], last_coord[1], last_coord[2] + rand * a + b)\n",
    "    coords.append(new_coord)\n",
    "\n",
    "text = \"%NProcShared=16\\n%mem=12GB\\n%Chk=checkpoint.chk\\n#p B3LYP/6-311+g(d) force\\n\\nTest\\n\\n0 1\\n\" #header\n",
    "atom_labels = [\"Na\"] * 4 #make 4 Na atoms\n",
    "\n",
    "#enumerate gets the index and the element\n",
    "file_path = \"./output/linear.com\"\n",
    "for i, coord in enumerate(coords):\n",
    "    text += f\"{atom_labels[i]}    {coord[0]}    {coord[1]}    {coord[2]}\\n\"\n",
    "\n",
    "file_path = \"./output/rand.com\"\n",
    "\n",
    "#withでファイルを開くと自動的にcloseされる\n",
    "with open(file_path, \"w\") as file:\n",
    "    file.write(text)\n"
   ]
  },
  {
   "cell_type": "code",
   "execution_count": null,
   "metadata": {},
   "outputs": [],
   "source": []
  }
 ],
 "metadata": {
  "kernelspec": {
   "display_name": "Python 3",
   "language": "python",
   "name": "python3"
  },
  "language_info": {
   "codemirror_mode": {
    "name": "ipython",
    "version": 3
   },
   "file_extension": ".py",
   "mimetype": "text/x-python",
   "name": "python",
   "nbconvert_exporter": "python",
   "pygments_lexer": "ipython3",
   "version": "3.10.6"
  },
  "orig_nbformat": 4
 },
 "nbformat": 4,
 "nbformat_minor": 2
}
